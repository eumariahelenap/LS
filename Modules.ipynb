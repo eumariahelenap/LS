{
 "cells": [
  {
   "cell_type": "code",
   "execution_count": 1,
   "metadata": {},
   "outputs": [],
   "source": [
    "import sys; sys.dont_write_bytecode=1\n",
    "import warnings\n",
    "from typing import Literal as Lit\n",
    "import itertools as it\n",
    "from numpy import nan\n",
    "import numpy as np\n",
    "import pandas as pd\n",
    "import deps as _\n",
    "import modules as m\n",
    "import Common\n",
    "import gc\n",
    "from importlib import reload; reload(_)\n",
    "\n",
    "warnings.filterwarnings('ignore')\n",
    "pd.set_option('display.width',       None)\n",
    "pd.set_option('display.max_columns', None)"
   ]
  },
  {
   "cell_type": "code",
   "execution_count": 2,
   "metadata": {},
   "outputs": [],
   "source": [
    "TICKERS = _.TECH_7\n",
    "TF      = 'Y'\n",
    "SRC     = '1mo'\n",
    "UNTIL   = '35y'\n",
    "GRAN    = 12\n",
    "ANUM    = 1\n",
    "PRDS    = 1, 3, 5, 10, 20, 40 \n",
    "SLGS    = '1Y', '3Y', '5Y', '10Y', '20Y', '40Y'\n",
    "\n",
    "\n",
    "LI_RNK_1 = Common.LI_RNK_1[TF]\n",
    "LI_RNK_2 = Common.LI_RNK_2[TF]\n",
    "TP_RNK_1 = Common.TP_RNK_1[TF]\n",
    "TP_RNK_2 = Common.TP_RNK_2[TF]\n",
    "\n",
    "RNK_1:TP_RNK_1  = 'High Cor 1Y' \n",
    "RNK_2:TP_RNK_2  = 'High Gap 1Y'\n",
    "IND_1, IND_2    = _.np_remove_prefix([RNK_1, RNK_2])\n",
    "WGHTS           = [1,1]\n",
    "NORM_WGHTS      = False\n",
    "RCOMB           = 'High Art'"
   ]
  },
  {
   "cell_type": "code",
   "execution_count": 3,
   "metadata": {},
   "outputs": [],
   "source": [
    "def GET_SOURCE(toggle, TICKERS, TF, SRC, UNTIL, FULL_CLOCK, start=None):\n",
    "    if not toggle:  return None\n",
    "    Src  = m.GET_HIST_DATA(TICKERS, SRC, UNTIL, start)\n",
    "    Keys = m.MAKE_PAIRS_KEYS(Src)\n",
    "    Src2 = m.MAKE_PAIRS_SOURCE(Keys, Src, TF, FULL_CLOCK)\n",
    "    \n",
    "    del Src, Keys;  gc.collect()\n",
    "    return Src2"
   ]
  },
  {
   "cell_type": "code",
   "execution_count": 4,
   "metadata": {},
   "outputs": [],
   "source": [
    "def COMPUTE_DATA(toggle, Src2, GRAN, PRDS, SLGS):\n",
    "    if not toggle:  return None\n",
    "    PSts    = m.CALCULATE_PRC_STATS(Src2, GRAN, PRDS, SLGS)\n",
    "    Vars    = m.CALCULATE_VARIATIONS(Src2, GRAN, PRDS, SLGS)\n",
    "    VSts    = m.CALCULATE_VAR_STATS(Src2, Vars, GRAN, PRDS, SLGS)\n",
    "    LS      = m.LONG_SHORT_RETURNS(Src2, Vars, PRDS, SLGS)\n",
    "    IAbs    = m.CALCULATE_ABSOLUTES(Vars, VSts)\n",
    "    GVar    = m.CALCULATE_GAP_VARIATION(Src2, IAbs, GRAN, PRDS, SLGS)\n",
    "    Frames  = m.COMBINE_FRAMES(Src2, LS, PSts, Vars, VSts, IAbs, GVar)\n",
    "    \n",
    "    del PSts, Vars, VSts, LS, IAbs, GVar;  gc.collect()\n",
    "\n",
    "    Rnk_Rtn, Rnk_Cor, Rnk_Inds = m.CALCULATE_RANKS(Frames, PRDS, SLGS)\n",
    "    Ranks   = m.COMBINE_RANKS(Src2, Rnk_Rtn, Rnk_Cor, Rnk_Inds)\n",
    "    \n",
    "    del Src2, Rnk_Rtn, Rnk_Cor, Rnk_Inds;  gc.collect()\n",
    "    \n",
    "    Data    = m.COMBINE_DATAS(Frames, Ranks)\n",
    "    \n",
    "    del Frames, Ranks;  gc.collect()\n",
    "\n",
    "    Scrn    = m.SORT_SCREENER(Data)\n",
    "\n",
    "    del Data;  gc.collect()\n",
    "\n",
    "    # del PSts, Vars, VSts, LS, IAbs, GVar, Frames, Rnk_Rtn, Rnk_Cor, Rnk_Inds, Ranks, Data;  gc.collect()\n",
    "    return Scrn"
   ]
  },
  {
   "cell_type": "code",
   "execution_count": 5,
   "metadata": {},
   "outputs": [],
   "source": [
    "def RANKED_FOLIOS(Scrn, TF, TOP, GRAN, ANUM,  RCOMB, IND_1,IND_2,RNK_1,RNK_2,  WGHTS, NORM_WGHTS):\n",
    "    Slc         = m.SELECT(Scrn, GRAN)\n",
    "\n",
    "    del Scrn;  gc.collect()\n",
    "\n",
    "    RnkComb     = m.RANK_COMBINATION(Slc,  ['N','Ticker.XY'],['Date'],  RNK_1, RNK_2,  WGHTS, NORM_WGHTS)\n",
    "    InTop       = m.TOP_CLASSIFCATION(RnkComb, RankBy=RCOMB, TOP=TOP)\n",
    "    Class_RComb = m.COMBINE_CLASS_RCOMB(InTop, RnkComb)\n",
    "\n",
    "    del InTop, RnkComb;  gc.collect()\n",
    "\n",
    "    DFrame      = m.INSERT_CLASS_RCOMB_IN_DFRAME(Slc, Class_RComb)\n",
    "\n",
    "    del Class_RComb;  gc.collect()\n",
    "\n",
    "    Agg         = m.MAKE_AGGREGATION_KEYS(Slc, TOP)\n",
    "\n",
    "    del Slc;  gc.collect()\n",
    "\n",
    "    Agg         = m.ADD_WALLET_PERFORMANCE(Agg, DFrame, TF, ANUM, COLS=[IND_1, IND_2, RNK_1, RNK_2])\n",
    "\n",
    "    del DFrame;  gc.collect()\n",
    "\n",
    "    Top         = m.FINAL_RESULTS(Agg, TOP, COLS=[IND_1, IND_2, RNK_1, RNK_2])\n",
    "\n",
    "    # del Slc, RnkComb, InTop, Class_RComb, DFrame;  gc.collect()\n",
    "    return Top, Agg"
   ]
  }
 ],
 "metadata": {
  "kernelspec": {
   "display_name": "base",
   "language": "python",
   "name": "python3"
  },
  "language_info": {
   "codemirror_mode": {
    "name": "ipython",
    "version": 3
   },
   "file_extension": ".py",
   "mimetype": "text/x-python",
   "name": "python",
   "nbconvert_exporter": "python",
   "pygments_lexer": "ipython3",
   "version": "3.11.9"
  }
 },
 "nbformat": 4,
 "nbformat_minor": 2
}
