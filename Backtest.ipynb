{
 "cells": [
  {
   "cell_type": "code",
   "execution_count": null,
   "metadata": {},
   "outputs": [],
   "source": [
    "# def link_google(base='/content/drive', path='/My Drive/Colab Notebooks/'):\n",
    "#     from google.colab import drive; drive.mount(base)\n",
    "#     import sys; sys.path.append(base + path)\n",
    "\n",
    "# link_google()\n",
    "\n",
    "# !pip cache purge\n",
    "# !pip install --upgrade pandas\n",
    "# !pip install arrow pymongo"
   ]
  },
  {
   "cell_type": "code",
   "execution_count": null,
   "metadata": {},
   "outputs": [],
   "source": [
    "import sys; sys.dont_write_bytecode=1\n",
    "import warnings\n",
    "from typing import Literal as Lit\n",
    "from numpy import nan\n",
    "import numpy as np\n",
    "import pandas as pd\n",
    "import deps as _\n",
    "import modules as m\n",
    "import Common\n",
    "import gc\n",
    "# from importlib import reload; reload(_); reload(m)\n",
    "\n",
    "warnings.filterwarnings('ignore')\n",
    "pd.set_option('display.width',       None)\n",
    "pd.set_option('display.max_columns', None)\n",
    "# env='google_colab'\n",
    "env='local'\n",
    "gc.enable()"
   ]
  },
  {
   "cell_type": "code",
   "execution_count": null,
   "metadata": {},
   "outputs": [],
   "source": [
    "TICKERS     = _.ETFS\n",
    "TOP         = _.TOP_30\n",
    "TF, SFX, SRC, UNTIL, GRAN, ANUM = _.PRESET('Y')\n",
    "PRDS, SLGS  = _.aPrds(TF, [1,2,3,4,5,6]).tolist(), _.aSlug(TF, [1,2,3,4,5,6]).tolist()\n",
    "\n",
    "\n",
    "LI_RNK_1 = Common.LI_RNK_1[TF]\n",
    "LI_RNK_2 = Common.LI_RNK_2[TF]\n",
    "TP_RNK_1 = Common.TP_RNK_1[TF]\n",
    "TP_RNK_2 = Common.TP_RNK_2[TF]\n",
    "\n",
    "# RNK_1:TP_RNK_1  = 'High Cor 1Y' \n",
    "# RNK_2:TP_RNK_2  = 'High Gap 1Y'\n",
    "# IND_1, IND_2    = _.np_remove_prefix([RNK_1, RNK_2])\n",
    "WGHTS           = [1,1]\n",
    "NORM_WGHTS      = False\n",
    "RCOMB           = 'High Art'\n",
    "\n",
    "\n",
    "DOWNLOAD, COMPUTE =  True, True\n",
    "FULL_CLOCK        =  False\n",
    "SYNC:_.TP_SYNC    = 'SAVE'\n",
    "DIRECTORY         = 'Storage/'\n",
    "RESULTS           = 'Results/'\n",
    "FORMAT            = 'parquet'"
   ]
  },
  {
   "cell_type": "code",
   "execution_count": null,
   "metadata": {},
   "outputs": [],
   "source": [
    "# import datetime as dt\n",
    "# from dateutil.relativedelta import relativedelta\n",
    "\n",
    "# UNTIL = None\n",
    "# START = dt.date.today() - relativedelta(days=59)"
   ]
  },
  {
   "cell_type": "code",
   "execution_count": null,
   "metadata": {},
   "outputs": [],
   "source": [
    "UNTIL = 'max'\n",
    "Src2 = m.GET_SOURCE(DOWNLOAD, TICKERS, TF, SRC, UNTIL, FULL_CLOCK, start=None)\n",
    "Src2 = _.pd_sync_storage(SYNC, Src2, DIRECTORY, 'Src2', SFX, fmt=FORMAT, env=env)"
   ]
  },
  {
   "cell_type": "code",
   "execution_count": null,
   "metadata": {},
   "outputs": [],
   "source": [
    "Scrn = m.COMPUTE_DATA(COMPUTE, Src2, GRAN, PRDS, SLGS)\n",
    "Scrn = _.pd_sync_storage(SYNC, Scrn, DIRECTORY, 'Scrn', SFX, fmt=FORMAT, env=env)\n",
    "\n",
    "del Src2;  gc.collect()"
   ]
  },
  {
   "cell_type": "code",
   "execution_count": null,
   "metadata": {},
   "outputs": [],
   "source": [
    "# Top, Agg = m.RANKED_FOLIOS(Scrn, TF, TOP, GRAN, ANUM,  RCOMB, IND_1,IND_2,RNK_1,RNK_2,  WGHTS, NORM_WGHTS)"
   ]
  },
  {
   "cell_type": "code",
   "execution_count": null,
   "metadata": {},
   "outputs": [],
   "source": [
    "CAGR   = _.pd_Storage(RESULTS, 'CAGR',   f'_{SFX}',  env=env)\n",
    "Return = _.pd_Storage(RESULTS, 'Return', f'_{SFX}',  env=env)\n",
    "\n",
    "\n",
    "for i, (RNK_1, RNK_2) in enumerate(list(_.it.product(LI_RNK_1[1:], LI_RNK_2[16:]))):\n",
    "    try:\n",
    "        print(i, RNK_1, RNK_2)\n",
    "\n",
    "        IND_1, IND_2 = _.np_remove_prefix([RNK_1, RNK_2])\n",
    "\n",
    "        Top, Agg = m.RANKED_FOLIOS(Scrn, TF, TOP, GRAN, ANUM,  RCOMB, IND_1,IND_2,RNK_1,RNK_2,  WGHTS, NORM_WGHTS)\n",
    "\n",
    "        XLabel = _.combine_label(WGHTS, [RNK_1, RNK_2])\n",
    "        CAGR.add_column(  XLabel, Top['CAGR']   .round(2))\n",
    "        Return.add_column(XLabel, Top['Return'] .round(2))\n",
    "\n",
    "        del Top, Agg;  gc.collect()\n",
    "    except Exception as Error:\n",
    "        print('iLoop:',i, 'Error:',Error)\n",
    "pass"
   ]
  },
  {
   "cell_type": "code",
   "execution_count": null,
   "metadata": {},
   "outputs": [],
   "source": [
    "# CAGR.load().to_excel(f'{RESULTS}CAGR.xlsx', SFX, index=False)\n",
    "CAGR.load()"
   ]
  },
  {
   "cell_type": "code",
   "execution_count": null,
   "metadata": {},
   "outputs": [],
   "source": [
    "# Return.load().to_excel(f'{RESULTS}Return.xlsx', SFX, index=False)\n",
    "Return.load()"
   ]
  },
  {
   "cell_type": "code",
   "execution_count": null,
   "metadata": {},
   "outputs": [],
   "source": [
    "# CAGR.create_new_empty({ 'Top':TOP })\n",
    "# Return.create_new_empty({ 'Top':TOP })"
   ]
  }
 ],
 "metadata": {
  "kernelspec": {
   "display_name": "base",
   "language": "python",
   "name": "python3"
  },
  "language_info": {
   "codemirror_mode": {
    "name": "ipython",
    "version": 3
   },
   "file_extension": ".py",
   "mimetype": "text/x-python",
   "name": "python",
   "nbconvert_exporter": "python",
   "pygments_lexer": "ipython3",
   "version": "3.11.10"
  }
 },
 "nbformat": 4,
 "nbformat_minor": 2
}
