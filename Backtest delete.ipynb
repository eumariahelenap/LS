{
 "cells": [
  {
   "cell_type": "code",
   "execution_count": null,
   "metadata": {},
   "outputs": [],
   "source": [
    "# def link_google(base='/content/drive', path='/My Drive/Colab Notebooks/'):\n",
    "#     from google.colab import drive; drive.mount(base)\n",
    "#     import sys; sys.path.append(base + path)\n",
    "\n",
    "# link_google()\n",
    "\n",
    "# !pip cache purge\n",
    "# !pip install --upgrade pandas\n",
    "# !pip install arrow pymongo"
   ]
  },
  {
   "cell_type": "code",
   "execution_count": null,
   "metadata": {},
   "outputs": [],
   "source": [
    "import sys; sys.dont_write_bytecode=1\n",
    "import warnings\n",
    "from typing import Literal as Lit\n",
    "from numpy import nan\n",
    "import numpy as np\n",
    "import pandas as pd\n",
    "import deps as _\n",
    "import modules as m\n",
    "import Common\n",
    "import gc\n",
    "# from importlib import reload; reload(_); reload(m)\n",
    "\n",
    "warnings.filterwarnings('ignore')\n",
    "pd.set_option('display.width',       None)\n",
    "pd.set_option('display.max_columns', None)\n",
    "# env='google_colab'\n",
    "env='local'\n",
    "gc.enable()"
   ]
  },
  {
   "cell_type": "code",
   "execution_count": null,
   "metadata": {},
   "outputs": [],
   "source": [
    "TICKERS     = _.TECH_7\n",
    "TOP         = _.TOP_30\n",
    "TF, SFX, SRC, UNTIL, GRAN, ANUM = _.PRESET('Y')\n",
    "PRDS, SLGS  = _.aPrds(TF, [1,2,3,4,5,6]).tolist(), _.aSlug(TF, [1,2,3,4,5,6]).tolist()\n",
    "\n",
    "\n",
    "LI_RNK_1 = Common.LI_RNK_1[TF]\n",
    "LI_RNK_2 = Common.LI_RNK_2[TF]\n",
    "TP_RNK_1 = Common.TP_RNK_1[TF]\n",
    "TP_RNK_2 = Common.TP_RNK_2[TF]\n",
    "\n",
    "# RNK_1:TP_RNK_1  = 'High Cor 1Y' \n",
    "# RNK_2:TP_RNK_2  = 'High Gap 1Y'\n",
    "# IND_1, IND_2    = _.np_remove_prefix([RNK_1, RNK_2])\n",
    "WGHTS           = [1,1]\n",
    "NORM_WGHTS      = False\n",
    "RCOMB           = 'High Art'\n",
    "\n",
    "\n",
    "DOWNLOAD, COMPUTE =  True, True\n",
    "FULL_CLOCK        =  False\n",
    "SYNC:_.TP_SYNC    = 'SAVE'\n",
    "DIRECTORY         = 'Storage/'\n",
    "RESULTS           = 'Results/'\n",
    "FORMAT            = 'parquet'"
   ]
  },
  {
   "cell_type": "code",
   "execution_count": null,
   "metadata": {},
   "outputs": [],
   "source": [
    "# import datetime as dt\n",
    "# from dateutil.relativedelta import relativedelta\n",
    "\n",
    "# UNTIL = None\n",
    "# START = dt.date.today() - relativedelta(days=59)"
   ]
  },
  {
   "cell_type": "code",
   "execution_count": null,
   "metadata": {},
   "outputs": [],
   "source": [
    "UNTIL = 'max'\n",
    "Src2 = m.GET_SOURCE(DOWNLOAD, TICKERS, TF, SRC, UNTIL, FULL_CLOCK, start=None)\n",
    "Src2 = _.pd_sync_storage(SYNC, Src2, DIRECTORY, 'Src2', SFX, fmt=FORMAT, env=env)"
   ]
  },
  {
   "cell_type": "code",
   "execution_count": 6,
   "metadata": {},
   "outputs": [
    {
     "data": {
      "text/plain": [
       "0"
      ]
     },
     "execution_count": 6,
     "metadata": {},
     "output_type": "execute_result"
    }
   ],
   "source": [
    "Scrn = m.COMPUTE_DATA(COMPUTE, Src2, GRAN, PRDS, SLGS)\n",
    "Scrn = _.pd_sync_storage(SYNC, Scrn, DIRECTORY, 'Scrn', SFX, fmt=FORMAT, env=env)\n",
    "\n",
    "del Src2;  gc.collect()"
   ]
  },
  {
   "cell_type": "code",
   "execution_count": 7,
   "metadata": {},
   "outputs": [],
   "source": [
    "# Top, Agg = m.RANKED_FOLIOS(Scrn, TF, TOP, GRAN, ANUM,  RCOMB, IND_1,IND_2,RNK_1,RNK_2,  WGHTS, NORM_WGHTS)"
   ]
  },
  {
   "cell_type": "code",
   "execution_count": 8,
   "metadata": {},
   "outputs": [
    {
     "name": "stdout",
     "output_type": "stream",
     "text": [
      "0 High Cor 1Y High Gap\n",
      "iLoop: 0 Error: Columns must be same length as key\n",
      "1 High Cor 1Y Low Gap\n",
      "iLoop: 1 Error: Columns must be same length as key\n",
      "2 High Cor 1Y High Gap 1Y\n",
      "3 High Cor 1Y Low Gap 1Y\n",
      "4 High Cor 1Y High Gap 3Y\n",
      "5 High Cor 1Y Low Gap 3Y\n",
      "6 High Cor 1Y High Gap 5Y\n",
      "7 High Cor 1Y Low Gap 5Y\n",
      "8 High Cor 1Y High Gap 10Y\n",
      "9 High Cor 1Y Low Gap 10Y\n",
      "10 High Cor 1Y High Gap 20Y\n",
      "11 High Cor 1Y Low Gap 20Y\n",
      "12 High Cor 1Y High Gap 40Y\n"
     ]
    },
    {
     "ename": "KeyboardInterrupt",
     "evalue": "",
     "output_type": "error",
     "traceback": [
      "\u001b[1;31m---------------------------------------------------------------------------\u001b[0m",
      "\u001b[1;31mKeyboardInterrupt\u001b[0m                         Traceback (most recent call last)",
      "Cell \u001b[1;32mIn[8], line 11\u001b[0m\n\u001b[0;32m      7\u001b[0m \u001b[38;5;28mprint\u001b[39m(i, RNK_1, RNK_2)\n\u001b[0;32m      9\u001b[0m IND_1, IND_2 \u001b[38;5;241m=\u001b[39m _\u001b[38;5;241m.\u001b[39mnp_remove_prefix([RNK_1, RNK_2])\n\u001b[1;32m---> 11\u001b[0m Top, Agg \u001b[38;5;241m=\u001b[39m m\u001b[38;5;241m.\u001b[39mRANKED_FOLIOS(Scrn, TF, TOP, GRAN, ANUM,  RCOMB, IND_1,IND_2,RNK_1,RNK_2,  WGHTS, NORM_WGHTS)\n\u001b[0;32m     13\u001b[0m XLabel \u001b[38;5;241m=\u001b[39m _\u001b[38;5;241m.\u001b[39mcombine_label(WGHTS, [RNK_1, RNK_2])\n\u001b[0;32m     14\u001b[0m CAGR\u001b[38;5;241m.\u001b[39madd_column(  XLabel, Top[\u001b[38;5;124m'\u001b[39m\u001b[38;5;124mCAGR\u001b[39m\u001b[38;5;124m'\u001b[39m]   \u001b[38;5;241m.\u001b[39mround(\u001b[38;5;241m2\u001b[39m))\n",
      "File \u001b[1;32mf:\\Finance\\Code\\Backtests\\BT - Long Short\\modules.py:485\u001b[0m, in \u001b[0;36mRANKED_FOLIOS\u001b[1;34m(***failed resolving arguments***)\u001b[0m\n\u001b[0;32m    481\u001b[0m Agg         \u001b[38;5;241m=\u001b[39m MAKE_AGGREGATION_KEYS(Slc, TOP)\n\u001b[0;32m    483\u001b[0m \u001b[38;5;28;01mdel\u001b[39;00m Slc;  gc\u001b[38;5;241m.\u001b[39mcollect()\n\u001b[1;32m--> 485\u001b[0m Agg         \u001b[38;5;241m=\u001b[39m ADD_WALLET_PERFORMANCE(Agg, DFrame, TF, ANUM, COLS\u001b[38;5;241m=\u001b[39m[IND_1, IND_2, RNK_1, RNK_2])\n\u001b[0;32m    487\u001b[0m \u001b[38;5;28;01mdel\u001b[39;00m DFrame;  gc\u001b[38;5;241m.\u001b[39mcollect()\n\u001b[0;32m    489\u001b[0m Top         \u001b[38;5;241m=\u001b[39m FINAL_RESULTS(Agg, TOP, COLS\u001b[38;5;241m=\u001b[39m[IND_1, IND_2, RNK_1, RNK_2])\n",
      "File \u001b[1;32mf:\\Finance\\Code\\Backtests\\BT - Long Short\\modules.py:397\u001b[0m, in \u001b[0;36mADD_WALLET_PERFORMANCE\u001b[1;34m(Agg, Data, TF, pwr, COLS)\u001b[0m\n\u001b[0;32m    394\u001b[0m Agg[\u001b[38;5;124m'\u001b[39m\u001b[38;5;124mExpnt\u001b[39m\u001b[38;5;124m'\u001b[39m] \u001b[38;5;241m=\u001b[39m _\u001b[38;5;241m.\u001b[39mExpnt(Agg,  \u001b[38;5;124m'\u001b[39m\u001b[38;5;124mWorth\u001b[39m\u001b[38;5;124m'\u001b[39m, By\u001b[38;5;241m=\u001b[39m\u001b[38;5;124m'\u001b[39m\u001b[38;5;124mTop\u001b[39m\u001b[38;5;124m'\u001b[39m, stp\u001b[38;5;241m=\u001b[39m(\u001b[38;5;241m-\u001b[39m\u001b[38;5;241m1\u001b[39m))\n\u001b[0;32m    396\u001b[0m Agg[\u001b[38;5;124m'\u001b[39m\u001b[38;5;124mInds\u001b[39m\u001b[38;5;124m'\u001b[39m]  \u001b[38;5;241m=\u001b[39m \u001b[38;5;124m'\u001b[39m\u001b[38;5;124m'\u001b[39m\n\u001b[1;32m--> 397\u001b[0m Agg[COLS]    \u001b[38;5;241m=\u001b[39m Agg\u001b[38;5;241m.\u001b[39mapply(\u001b[38;5;28;01mlambda\u001b[39;00m x: (\n\u001b[0;32m    398\u001b[0m     _mean(_filter(Data, TL\u001b[38;5;241m=\u001b[39mx\u001b[38;5;241m.\u001b[39mN, TOP\u001b[38;5;241m=\u001b[39m\u001b[38;5;28mint\u001b[39m(x\u001b[38;5;241m.\u001b[39mTop), Rtn\u001b[38;5;241m=\u001b[39mCOLS), rnd\u001b[38;5;241m=\u001b[39m\u001b[38;5;241m2\u001b[39m)\n\u001b[0;32m    399\u001b[0m ), axis\u001b[38;5;241m=\u001b[39m\u001b[38;5;241m1\u001b[39m)\n\u001b[0;32m    401\u001b[0m \u001b[38;5;28;01mreturn\u001b[39;00m Agg[[\u001b[38;5;124m'\u001b[39m\u001b[38;5;124mN\u001b[39m\u001b[38;5;124m'\u001b[39m,\u001b[38;5;124m'\u001b[39m\u001b[38;5;124mTop\u001b[39m\u001b[38;5;124m'\u001b[39m, \u001b[38;5;124m'\u001b[39m\u001b[38;5;124mCount\u001b[39m\u001b[38;5;124m'\u001b[39m,\u001b[38;5;124m'\u001b[39m\u001b[38;5;124mExpnt\u001b[39m\u001b[38;5;124m'\u001b[39m,\u001b[38;5;124m'\u001b[39m\u001b[38;5;124mWorth\u001b[39m\u001b[38;5;124m'\u001b[39m,\u001b[38;5;124m'\u001b[39m\u001b[38;5;124mCAGR\u001b[39m\u001b[38;5;124m'\u001b[39m,\u001b[38;5;124m'\u001b[39m\u001b[38;5;124mReturn\u001b[39m\u001b[38;5;124m'\u001b[39m, \u001b[38;5;124m'\u001b[39m\u001b[38;5;124mInds\u001b[39m\u001b[38;5;124m'\u001b[39m,\u001b[38;5;241m*\u001b[39mCOLS]]\n",
      "File \u001b[1;32m~\\AppData\\Roaming\\Python\\Python311\\site-packages\\pandas\\core\\frame.py:10374\u001b[0m, in \u001b[0;36mDataFrame.apply\u001b[1;34m(self, func, axis, raw, result_type, args, by_row, engine, engine_kwargs, **kwargs)\u001b[0m\n\u001b[0;32m  10360\u001b[0m \u001b[38;5;28;01mfrom\u001b[39;00m \u001b[38;5;21;01mpandas\u001b[39;00m\u001b[38;5;21;01m.\u001b[39;00m\u001b[38;5;21;01mcore\u001b[39;00m\u001b[38;5;21;01m.\u001b[39;00m\u001b[38;5;21;01mapply\u001b[39;00m \u001b[38;5;28;01mimport\u001b[39;00m frame_apply\n\u001b[0;32m  10362\u001b[0m op \u001b[38;5;241m=\u001b[39m frame_apply(\n\u001b[0;32m  10363\u001b[0m     \u001b[38;5;28mself\u001b[39m,\n\u001b[0;32m  10364\u001b[0m     func\u001b[38;5;241m=\u001b[39mfunc,\n\u001b[1;32m   (...)\u001b[0m\n\u001b[0;32m  10372\u001b[0m     kwargs\u001b[38;5;241m=\u001b[39mkwargs,\n\u001b[0;32m  10373\u001b[0m )\n\u001b[1;32m> 10374\u001b[0m \u001b[38;5;28;01mreturn\u001b[39;00m op\u001b[38;5;241m.\u001b[39mapply()\u001b[38;5;241m.\u001b[39m__finalize__(\u001b[38;5;28mself\u001b[39m, method\u001b[38;5;241m=\u001b[39m\u001b[38;5;124m\"\u001b[39m\u001b[38;5;124mapply\u001b[39m\u001b[38;5;124m\"\u001b[39m)\n",
      "File \u001b[1;32m~\\AppData\\Roaming\\Python\\Python311\\site-packages\\pandas\\core\\apply.py:916\u001b[0m, in \u001b[0;36mFrameApply.apply\u001b[1;34m(self)\u001b[0m\n\u001b[0;32m    913\u001b[0m \u001b[38;5;28;01melif\u001b[39;00m \u001b[38;5;28mself\u001b[39m\u001b[38;5;241m.\u001b[39mraw:\n\u001b[0;32m    914\u001b[0m     \u001b[38;5;28;01mreturn\u001b[39;00m \u001b[38;5;28mself\u001b[39m\u001b[38;5;241m.\u001b[39mapply_raw(engine\u001b[38;5;241m=\u001b[39m\u001b[38;5;28mself\u001b[39m\u001b[38;5;241m.\u001b[39mengine, engine_kwargs\u001b[38;5;241m=\u001b[39m\u001b[38;5;28mself\u001b[39m\u001b[38;5;241m.\u001b[39mengine_kwargs)\n\u001b[1;32m--> 916\u001b[0m \u001b[38;5;28;01mreturn\u001b[39;00m \u001b[38;5;28mself\u001b[39m\u001b[38;5;241m.\u001b[39mapply_standard()\n",
      "File \u001b[1;32m~\\AppData\\Roaming\\Python\\Python311\\site-packages\\pandas\\core\\apply.py:1063\u001b[0m, in \u001b[0;36mFrameApply.apply_standard\u001b[1;34m(self)\u001b[0m\n\u001b[0;32m   1061\u001b[0m \u001b[38;5;28;01mdef\u001b[39;00m \u001b[38;5;21mapply_standard\u001b[39m(\u001b[38;5;28mself\u001b[39m):\n\u001b[0;32m   1062\u001b[0m     \u001b[38;5;28;01mif\u001b[39;00m \u001b[38;5;28mself\u001b[39m\u001b[38;5;241m.\u001b[39mengine \u001b[38;5;241m==\u001b[39m \u001b[38;5;124m\"\u001b[39m\u001b[38;5;124mpython\u001b[39m\u001b[38;5;124m\"\u001b[39m:\n\u001b[1;32m-> 1063\u001b[0m         results, res_index \u001b[38;5;241m=\u001b[39m \u001b[38;5;28mself\u001b[39m\u001b[38;5;241m.\u001b[39mapply_series_generator()\n\u001b[0;32m   1064\u001b[0m     \u001b[38;5;28;01melse\u001b[39;00m:\n\u001b[0;32m   1065\u001b[0m         results, res_index \u001b[38;5;241m=\u001b[39m \u001b[38;5;28mself\u001b[39m\u001b[38;5;241m.\u001b[39mapply_series_numba()\n",
      "File \u001b[1;32m~\\AppData\\Roaming\\Python\\Python311\\site-packages\\pandas\\core\\apply.py:1081\u001b[0m, in \u001b[0;36mFrameApply.apply_series_generator\u001b[1;34m(self)\u001b[0m\n\u001b[0;32m   1078\u001b[0m \u001b[38;5;28;01mwith\u001b[39;00m option_context(\u001b[38;5;124m\"\u001b[39m\u001b[38;5;124mmode.chained_assignment\u001b[39m\u001b[38;5;124m\"\u001b[39m, \u001b[38;5;28;01mNone\u001b[39;00m):\n\u001b[0;32m   1079\u001b[0m     \u001b[38;5;28;01mfor\u001b[39;00m i, v \u001b[38;5;129;01min\u001b[39;00m \u001b[38;5;28menumerate\u001b[39m(series_gen):\n\u001b[0;32m   1080\u001b[0m         \u001b[38;5;66;03m# ignore SettingWithCopy here in case the user mutates\u001b[39;00m\n\u001b[1;32m-> 1081\u001b[0m         results[i] \u001b[38;5;241m=\u001b[39m \u001b[38;5;28mself\u001b[39m\u001b[38;5;241m.\u001b[39mfunc(v, \u001b[38;5;241m*\u001b[39m\u001b[38;5;28mself\u001b[39m\u001b[38;5;241m.\u001b[39margs, \u001b[38;5;241m*\u001b[39m\u001b[38;5;241m*\u001b[39m\u001b[38;5;28mself\u001b[39m\u001b[38;5;241m.\u001b[39mkwargs)\n\u001b[0;32m   1082\u001b[0m         \u001b[38;5;28;01mif\u001b[39;00m \u001b[38;5;28misinstance\u001b[39m(results[i], ABCSeries):\n\u001b[0;32m   1083\u001b[0m             \u001b[38;5;66;03m# If we have a view on v, we need to make a copy because\u001b[39;00m\n\u001b[0;32m   1084\u001b[0m             \u001b[38;5;66;03m#  series_generator will swap out the underlying data\u001b[39;00m\n\u001b[0;32m   1085\u001b[0m             results[i] \u001b[38;5;241m=\u001b[39m results[i]\u001b[38;5;241m.\u001b[39mcopy(deep\u001b[38;5;241m=\u001b[39m\u001b[38;5;28;01mFalse\u001b[39;00m)\n",
      "File \u001b[1;32mf:\\Finance\\Code\\Backtests\\BT - Long Short\\modules.py:398\u001b[0m, in \u001b[0;36mADD_WALLET_PERFORMANCE.<locals>.<lambda>\u001b[1;34m(x)\u001b[0m\n\u001b[0;32m    394\u001b[0m Agg[\u001b[38;5;124m'\u001b[39m\u001b[38;5;124mExpnt\u001b[39m\u001b[38;5;124m'\u001b[39m] \u001b[38;5;241m=\u001b[39m _\u001b[38;5;241m.\u001b[39mExpnt(Agg,  \u001b[38;5;124m'\u001b[39m\u001b[38;5;124mWorth\u001b[39m\u001b[38;5;124m'\u001b[39m, By\u001b[38;5;241m=\u001b[39m\u001b[38;5;124m'\u001b[39m\u001b[38;5;124mTop\u001b[39m\u001b[38;5;124m'\u001b[39m, stp\u001b[38;5;241m=\u001b[39m(\u001b[38;5;241m-\u001b[39m\u001b[38;5;241m1\u001b[39m))\n\u001b[0;32m    396\u001b[0m Agg[\u001b[38;5;124m'\u001b[39m\u001b[38;5;124mInds\u001b[39m\u001b[38;5;124m'\u001b[39m]  \u001b[38;5;241m=\u001b[39m \u001b[38;5;124m'\u001b[39m\u001b[38;5;124m'\u001b[39m\n\u001b[0;32m    397\u001b[0m Agg[COLS]    \u001b[38;5;241m=\u001b[39m Agg\u001b[38;5;241m.\u001b[39mapply(\u001b[38;5;28;01mlambda\u001b[39;00m x: (\n\u001b[1;32m--> 398\u001b[0m     _mean(_filter(Data, TL\u001b[38;5;241m=\u001b[39mx\u001b[38;5;241m.\u001b[39mN, TOP\u001b[38;5;241m=\u001b[39m\u001b[38;5;28mint\u001b[39m(x\u001b[38;5;241m.\u001b[39mTop), Rtn\u001b[38;5;241m=\u001b[39mCOLS), rnd\u001b[38;5;241m=\u001b[39m\u001b[38;5;241m2\u001b[39m)\n\u001b[0;32m    399\u001b[0m ), axis\u001b[38;5;241m=\u001b[39m\u001b[38;5;241m1\u001b[39m)\n\u001b[0;32m    401\u001b[0m \u001b[38;5;28;01mreturn\u001b[39;00m Agg[[\u001b[38;5;124m'\u001b[39m\u001b[38;5;124mN\u001b[39m\u001b[38;5;124m'\u001b[39m,\u001b[38;5;124m'\u001b[39m\u001b[38;5;124mTop\u001b[39m\u001b[38;5;124m'\u001b[39m, \u001b[38;5;124m'\u001b[39m\u001b[38;5;124mCount\u001b[39m\u001b[38;5;124m'\u001b[39m,\u001b[38;5;124m'\u001b[39m\u001b[38;5;124mExpnt\u001b[39m\u001b[38;5;124m'\u001b[39m,\u001b[38;5;124m'\u001b[39m\u001b[38;5;124mWorth\u001b[39m\u001b[38;5;124m'\u001b[39m,\u001b[38;5;124m'\u001b[39m\u001b[38;5;124mCAGR\u001b[39m\u001b[38;5;124m'\u001b[39m,\u001b[38;5;124m'\u001b[39m\u001b[38;5;124mReturn\u001b[39m\u001b[38;5;124m'\u001b[39m, \u001b[38;5;124m'\u001b[39m\u001b[38;5;124mInds\u001b[39m\u001b[38;5;124m'\u001b[39m,\u001b[38;5;241m*\u001b[39mCOLS]]\n",
      "File \u001b[1;32mf:\\Finance\\Code\\Backtests\\BT - Long Short\\modules.py:377\u001b[0m, in \u001b[0;36mADD_WALLET_PERFORMANCE.<locals>._filter\u001b[1;34m(Df, TL, TOP, Rtn)\u001b[0m\n\u001b[0;32m    375\u001b[0m COND_TOP   \u001b[38;5;241m=\u001b[39m (Df[\u001b[38;5;124mf\u001b[39m\u001b[38;5;124m'\u001b[39m\u001b[38;5;124mInTop \u001b[39m\u001b[38;5;132;01m{\u001b[39;00mTOP\u001b[38;5;132;01m}\u001b[39;00m\u001b[38;5;124m'\u001b[39m] \u001b[38;5;241m==\u001b[39m \u001b[38;5;241m1\u001b[39m)\n\u001b[0;32m    376\u001b[0m COND_ALL   \u001b[38;5;241m=\u001b[39m (COND_TLINE \u001b[38;5;241m&\u001b[39m COND_TOP)\n\u001b[1;32m--> 377\u001b[0m \u001b[38;5;28;01mreturn\u001b[39;00m Df[COND_ALL][Rtn]\n",
      "File \u001b[1;32m~\\AppData\\Roaming\\Python\\Python311\\site-packages\\pandas\\core\\frame.py:4093\u001b[0m, in \u001b[0;36mDataFrame.__getitem__\u001b[1;34m(self, key)\u001b[0m\n\u001b[0;32m   4091\u001b[0m \u001b[38;5;66;03m# Do we have a (boolean) 1d indexer?\u001b[39;00m\n\u001b[0;32m   4092\u001b[0m \u001b[38;5;28;01mif\u001b[39;00m com\u001b[38;5;241m.\u001b[39mis_bool_indexer(key):\n\u001b[1;32m-> 4093\u001b[0m     \u001b[38;5;28;01mreturn\u001b[39;00m \u001b[38;5;28mself\u001b[39m\u001b[38;5;241m.\u001b[39m_getitem_bool_array(key)\n\u001b[0;32m   4095\u001b[0m \u001b[38;5;66;03m# We are left with two options: a single key, and a collection of keys,\u001b[39;00m\n\u001b[0;32m   4096\u001b[0m \u001b[38;5;66;03m# We interpret tuples as collections only for non-MultiIndex\u001b[39;00m\n\u001b[0;32m   4097\u001b[0m is_single_key \u001b[38;5;241m=\u001b[39m \u001b[38;5;28misinstance\u001b[39m(key, \u001b[38;5;28mtuple\u001b[39m) \u001b[38;5;129;01mor\u001b[39;00m \u001b[38;5;129;01mnot\u001b[39;00m is_list_like(key)\n",
      "File \u001b[1;32m~\\AppData\\Roaming\\Python\\Python311\\site-packages\\pandas\\core\\frame.py:4155\u001b[0m, in \u001b[0;36mDataFrame._getitem_bool_array\u001b[1;34m(self, key)\u001b[0m\n\u001b[0;32m   4152\u001b[0m     \u001b[38;5;28;01mreturn\u001b[39;00m \u001b[38;5;28mself\u001b[39m\u001b[38;5;241m.\u001b[39mcopy(deep\u001b[38;5;241m=\u001b[39m\u001b[38;5;28;01mNone\u001b[39;00m)\n\u001b[0;32m   4154\u001b[0m indexer \u001b[38;5;241m=\u001b[39m key\u001b[38;5;241m.\u001b[39mnonzero()[\u001b[38;5;241m0\u001b[39m]\n\u001b[1;32m-> 4155\u001b[0m \u001b[38;5;28;01mreturn\u001b[39;00m \u001b[38;5;28mself\u001b[39m\u001b[38;5;241m.\u001b[39m_take_with_is_copy(indexer, axis\u001b[38;5;241m=\u001b[39m\u001b[38;5;241m0\u001b[39m)\n",
      "File \u001b[1;32m~\\AppData\\Roaming\\Python\\Python311\\site-packages\\pandas\\core\\generic.py:4153\u001b[0m, in \u001b[0;36mNDFrame._take_with_is_copy\u001b[1;34m(self, indices, axis)\u001b[0m\n\u001b[0;32m   4142\u001b[0m \u001b[38;5;129m@final\u001b[39m\n\u001b[0;32m   4143\u001b[0m \u001b[38;5;28;01mdef\u001b[39;00m \u001b[38;5;21m_take_with_is_copy\u001b[39m(\u001b[38;5;28mself\u001b[39m, indices, axis: Axis \u001b[38;5;241m=\u001b[39m \u001b[38;5;241m0\u001b[39m) \u001b[38;5;241m-\u001b[39m\u001b[38;5;241m>\u001b[39m Self:\n\u001b[0;32m   4144\u001b[0m \u001b[38;5;250m    \u001b[39m\u001b[38;5;124;03m\"\"\"\u001b[39;00m\n\u001b[0;32m   4145\u001b[0m \u001b[38;5;124;03m    Internal version of the `take` method that sets the `_is_copy`\u001b[39;00m\n\u001b[0;32m   4146\u001b[0m \u001b[38;5;124;03m    attribute to keep track of the parent dataframe (using in indexing\u001b[39;00m\n\u001b[1;32m   (...)\u001b[0m\n\u001b[0;32m   4151\u001b[0m \u001b[38;5;124;03m    See the docstring of `take` for full explanation of the parameters.\u001b[39;00m\n\u001b[0;32m   4152\u001b[0m \u001b[38;5;124;03m    \"\"\"\u001b[39;00m\n\u001b[1;32m-> 4153\u001b[0m     result \u001b[38;5;241m=\u001b[39m \u001b[38;5;28mself\u001b[39m\u001b[38;5;241m.\u001b[39mtake(indices\u001b[38;5;241m=\u001b[39mindices, axis\u001b[38;5;241m=\u001b[39maxis)\n\u001b[0;32m   4154\u001b[0m     \u001b[38;5;66;03m# Maybe set copy if we didn't actually change the index.\u001b[39;00m\n\u001b[0;32m   4155\u001b[0m     \u001b[38;5;28;01mif\u001b[39;00m \u001b[38;5;28mself\u001b[39m\u001b[38;5;241m.\u001b[39mndim \u001b[38;5;241m==\u001b[39m \u001b[38;5;241m2\u001b[39m \u001b[38;5;129;01mand\u001b[39;00m \u001b[38;5;129;01mnot\u001b[39;00m result\u001b[38;5;241m.\u001b[39m_get_axis(axis)\u001b[38;5;241m.\u001b[39mequals(\u001b[38;5;28mself\u001b[39m\u001b[38;5;241m.\u001b[39m_get_axis(axis)):\n",
      "File \u001b[1;32m~\\AppData\\Roaming\\Python\\Python311\\site-packages\\pandas\\core\\generic.py:4133\u001b[0m, in \u001b[0;36mNDFrame.take\u001b[1;34m(self, indices, axis, **kwargs)\u001b[0m\n\u001b[0;32m   4128\u001b[0m     \u001b[38;5;66;03m# We can get here with a slice via DataFrame.__getitem__\u001b[39;00m\n\u001b[0;32m   4129\u001b[0m     indices \u001b[38;5;241m=\u001b[39m np\u001b[38;5;241m.\u001b[39marange(\n\u001b[0;32m   4130\u001b[0m         indices\u001b[38;5;241m.\u001b[39mstart, indices\u001b[38;5;241m.\u001b[39mstop, indices\u001b[38;5;241m.\u001b[39mstep, dtype\u001b[38;5;241m=\u001b[39mnp\u001b[38;5;241m.\u001b[39mintp\n\u001b[0;32m   4131\u001b[0m     )\n\u001b[1;32m-> 4133\u001b[0m new_data \u001b[38;5;241m=\u001b[39m \u001b[38;5;28mself\u001b[39m\u001b[38;5;241m.\u001b[39m_mgr\u001b[38;5;241m.\u001b[39mtake(\n\u001b[0;32m   4134\u001b[0m     indices,\n\u001b[0;32m   4135\u001b[0m     axis\u001b[38;5;241m=\u001b[39m\u001b[38;5;28mself\u001b[39m\u001b[38;5;241m.\u001b[39m_get_block_manager_axis(axis),\n\u001b[0;32m   4136\u001b[0m     verify\u001b[38;5;241m=\u001b[39m\u001b[38;5;28;01mTrue\u001b[39;00m,\n\u001b[0;32m   4137\u001b[0m )\n\u001b[0;32m   4138\u001b[0m \u001b[38;5;28;01mreturn\u001b[39;00m \u001b[38;5;28mself\u001b[39m\u001b[38;5;241m.\u001b[39m_constructor_from_mgr(new_data, axes\u001b[38;5;241m=\u001b[39mnew_data\u001b[38;5;241m.\u001b[39maxes)\u001b[38;5;241m.\u001b[39m__finalize__(\n\u001b[0;32m   4139\u001b[0m     \u001b[38;5;28mself\u001b[39m, method\u001b[38;5;241m=\u001b[39m\u001b[38;5;124m\"\u001b[39m\u001b[38;5;124mtake\u001b[39m\u001b[38;5;124m\"\u001b[39m\n\u001b[0;32m   4140\u001b[0m )\n",
      "File \u001b[1;32m~\\AppData\\Roaming\\Python\\Python311\\site-packages\\pandas\\core\\internals\\managers.py:894\u001b[0m, in \u001b[0;36mBaseBlockManager.take\u001b[1;34m(self, indexer, axis, verify)\u001b[0m\n\u001b[0;32m    891\u001b[0m indexer \u001b[38;5;241m=\u001b[39m maybe_convert_indices(indexer, n, verify\u001b[38;5;241m=\u001b[39mverify)\n\u001b[0;32m    893\u001b[0m new_labels \u001b[38;5;241m=\u001b[39m \u001b[38;5;28mself\u001b[39m\u001b[38;5;241m.\u001b[39maxes[axis]\u001b[38;5;241m.\u001b[39mtake(indexer)\n\u001b[1;32m--> 894\u001b[0m \u001b[38;5;28;01mreturn\u001b[39;00m \u001b[38;5;28mself\u001b[39m\u001b[38;5;241m.\u001b[39mreindex_indexer(\n\u001b[0;32m    895\u001b[0m     new_axis\u001b[38;5;241m=\u001b[39mnew_labels,\n\u001b[0;32m    896\u001b[0m     indexer\u001b[38;5;241m=\u001b[39mindexer,\n\u001b[0;32m    897\u001b[0m     axis\u001b[38;5;241m=\u001b[39maxis,\n\u001b[0;32m    898\u001b[0m     allow_dups\u001b[38;5;241m=\u001b[39m\u001b[38;5;28;01mTrue\u001b[39;00m,\n\u001b[0;32m    899\u001b[0m     copy\u001b[38;5;241m=\u001b[39m\u001b[38;5;28;01mNone\u001b[39;00m,\n\u001b[0;32m    900\u001b[0m )\n",
      "File \u001b[1;32m~\\AppData\\Roaming\\Python\\Python311\\site-packages\\pandas\\core\\internals\\managers.py:705\u001b[0m, in \u001b[0;36mBaseBlockManager.reindex_indexer\u001b[1;34m(self, new_axis, indexer, axis, fill_value, allow_dups, copy, only_slice, use_na_proxy)\u001b[0m\n\u001b[0;32m    702\u001b[0m \u001b[38;5;28;01mif\u001b[39;00m axis \u001b[38;5;241m==\u001b[39m \u001b[38;5;241m1\u001b[39m:\n\u001b[0;32m    703\u001b[0m     \u001b[38;5;66;03m# We can avoid the need to rebuild these\u001b[39;00m\n\u001b[0;32m    704\u001b[0m     new_mgr\u001b[38;5;241m.\u001b[39m_blknos \u001b[38;5;241m=\u001b[39m \u001b[38;5;28mself\u001b[39m\u001b[38;5;241m.\u001b[39mblknos\u001b[38;5;241m.\u001b[39mcopy()\n\u001b[1;32m--> 705\u001b[0m     new_mgr\u001b[38;5;241m.\u001b[39m_blklocs \u001b[38;5;241m=\u001b[39m \u001b[38;5;28mself\u001b[39m\u001b[38;5;241m.\u001b[39mblklocs\u001b[38;5;241m.\u001b[39mcopy()\n\u001b[0;32m    706\u001b[0m \u001b[38;5;28;01mreturn\u001b[39;00m new_mgr\n",
      "\u001b[1;31mKeyboardInterrupt\u001b[0m: "
     ]
    }
   ],
   "source": [
    "CAGR   = _.pd_Storage(RESULTS, 'CAGR',   f'_{SFX}',  env=env)\n",
    "Return = _.pd_Storage(RESULTS, 'Return', f'_{SFX}',  env=env)\n",
    "\n",
    "\n",
    "for i, (RNK_1, RNK_2) in enumerate(list(_.it.product(LI_RNK_1[1:], LI_RNK_2[16:]))):\n",
    "    try:\n",
    "        print(i, RNK_1, RNK_2)\n",
    "\n",
    "        IND_1, IND_2 = _.np_remove_prefix([RNK_1, RNK_2])\n",
    "\n",
    "        Top, Agg = m.RANKED_FOLIOS(Scrn, TF, TOP, GRAN, ANUM,  RCOMB, IND_1,IND_2,RNK_1,RNK_2,  WGHTS, NORM_WGHTS)\n",
    "\n",
    "        XLabel = _.combine_label(WGHTS, [RNK_1, RNK_2])\n",
    "        CAGR.add_column(  XLabel, Top['CAGR']   .round(2))\n",
    "        Return.add_column(XLabel, Top['Return'] .round(2))\n",
    "\n",
    "        del Top, Agg;  gc.collect()\n",
    "    except Exception as Error:\n",
    "        print('iLoop:',i, 'Error:',Error)\n",
    "pass"
   ]
  },
  {
   "cell_type": "code",
   "execution_count": null,
   "metadata": {},
   "outputs": [],
   "source": [
    "# CAGR.load().to_excel(f'{RESULTS}CAGR.xlsx', SFX, index=False)\n",
    "CAGR.load()"
   ]
  },
  {
   "cell_type": "code",
   "execution_count": null,
   "metadata": {},
   "outputs": [],
   "source": [
    "# Return.load().to_excel(f'{RESULTS}Return.xlsx', SFX, index=False)\n",
    "Return.load()"
   ]
  },
  {
   "cell_type": "code",
   "execution_count": null,
   "metadata": {},
   "outputs": [],
   "source": [
    "# CAGR.create_new_empty({ 'Top':TOP })\n",
    "# Return.create_new_empty({ 'Top':TOP })"
   ]
  }
 ],
 "metadata": {
  "kernelspec": {
   "display_name": "base",
   "language": "python",
   "name": "python3"
  },
  "language_info": {
   "codemirror_mode": {
    "name": "ipython",
    "version": 3
   },
   "file_extension": ".py",
   "mimetype": "text/x-python",
   "name": "python",
   "nbconvert_exporter": "python",
   "pygments_lexer": "ipython3",
   "version": "3.11.10"
  }
 },
 "nbformat": 4,
 "nbformat_minor": 2
}
