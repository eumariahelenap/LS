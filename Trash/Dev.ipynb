{
 "cells": [
  {
   "cell_type": "code",
   "execution_count": null,
   "metadata": {},
   "outputs": [],
   "source": []
  },
  {
   "cell_type": "code",
   "execution_count": null,
   "metadata": {},
   "outputs": [],
   "source": [
    "# Ind_1:TP_IND_1 = 'High Cor 1Y'\n",
    "# Ind_2:TP_IND_2 = 'High Gap 1Y'\n",
    "\n",
    "# _.LINEAR_COMBINATION(Flt,  Keys=['Ticker.X','Ticker.Y','Ticker.XY'], By='Date', Inds=[Ind_1, Ind_2], Weights=WGHTS,  filt=False)"
   ]
  }
 ],
 "metadata": {
  "language_info": {
   "name": "python"
  }
 },
 "nbformat": 4,
 "nbformat_minor": 2
}
